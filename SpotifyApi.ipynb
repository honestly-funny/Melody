{
 "cells": [
  {
   "cell_type": "code",
   "execution_count": 1,
   "metadata": {},
   "outputs": [],
   "source": [
    "import spotipy\n",
    "import spotipy.util as util\n",
    "\n",
    "SPOTIPY_CLIENT_ID= \"c4cd5f91a31040079360625dda81839d\"\n",
    "SPOTIPY_CLIENT_SECRET= \"5d3c50fc095b43fdb2803d62f8339f7a\"\n",
    "USERNAME = \"shaleen_anushka\"\n",
    "\n",
    "spotify = spotipy.Spotify(auth = \"BQAIm4P5ieKR7A-DcGEKNG0eKON2VY1HkIHDPemuxxhAo8O4m6AGmAq2Kpd9uRIeGnUp5YaWfzZTcDPW2SpKe26mqYAEWMUiU2OD-JVemetJ-BwHvs5JPlAZOXdyEArYpXhIRwcI3K3zWjveEczJUj88nUqjKuFYK30bBJiUtskN\")\n",
    "# can't find where I got that token for... lol\n",
    "\n",
    "\n"
   ]
  },
  {
   "cell_type": "code",
   "execution_count": 2,
   "metadata": {},
   "outputs": [
    {
     "name": "stdout",
     "output_type": "stream",
     "text": [
      "  0 cold/mess\n",
      "  1 Tum Jab Paas\n",
      "  2 Oh Love\n",
      "  3 Tune Kaha\n",
      "  4 did you/fall apart\n",
      "  5 with you/for you\n",
      "  6 Go\n",
      "  7 fighter\n",
      "  8 100 words\n",
      "  9 for your time\n",
      "  10 Dil Beparvah - The Dewarists, Season 5\n",
      "  11 Raat Raazi\n",
      "  12 Yeh Pal\n",
      "  13 Go\n",
      "  14 Oh Love\n",
      "  15 Into the Night\n",
      "  16 Holding On\n",
      "  17 Flames\n",
      "  18 Ab Hoga Kya\n",
      "  19 Into the Night\n"
     ]
    }
   ],
   "source": [
    "# Example shown on https://github.com/plamere/spotipy/blob/master/examples/simple0.py\n",
    "results = spotify.search(q='prateek kuhad', limit=20)\n",
    "for i, t in enumerate(results['tracks']['items']):\n",
    "    print(' ', i, t['name'])"
   ]
  },
  {
   "cell_type": "code",
   "execution_count": null,
   "metadata": {},
   "outputs": [],
   "source": []
  },
  {
   "cell_type": "code",
   "execution_count": null,
   "metadata": {},
   "outputs": [],
   "source": []
  }
 ],
 "metadata": {
  "kernelspec": {
   "display_name": "Python 3",
   "language": "python",
   "name": "python3"
  },
  "language_info": {
   "codemirror_mode": {
    "name": "ipython",
    "version": 3
   },
   "file_extension": ".py",
   "mimetype": "text/x-python",
   "name": "python",
   "nbconvert_exporter": "python",
   "pygments_lexer": "ipython3",
   "version": "3.6.5"
  }
 },
 "nbformat": 4,
 "nbformat_minor": 2
}
